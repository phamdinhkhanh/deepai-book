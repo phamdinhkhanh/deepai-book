{
 "metadata": {
  "language_info": {
   "codemirror_mode": {
    "name": "ipython",
    "version": 3
   },
   "file_extension": ".py",
   "mimetype": "text/x-python",
   "name": "python",
   "nbconvert_exporter": "python",
   "pygments_lexer": "ipython3",
   "version": 3
  },
  "orig_nbformat": 2
 },
 "nbformat": 4,
 "nbformat_minor": 2,
 "cells": [
  {
   "source": [
    "# Phân Loại Xác Suất (Probabilistic Classifier): Naive Bayes và KDE"
   ],
   "cell_type": "markdown",
   "metadata": {}
  },
  {
   "source": [
    "Xác định phân loại nào là khả thi nhất cho 1 instance T\n",
    "* Mô hình cơ bản nhất: Chọn class C có các đặc tính T ($x_i$) được tìm thấy nhiều nhất: $C = argmax(\\sum P(x_i|class))$\n",
    "* Khuyết điểm: Cần $O(Ck^m)$ instances để phân loại chính xác. 2 phân loại cùng với 20 đặc tính nhị phân sẽ cần đến hơn 2 triệu data."
   ],
   "cell_type": "markdown",
   "metadata": {}
  },
  {
   "source": [
    "## 1. Naive Bayes\n",
    "* Hoạt động dựa theo nguyên tắc Bayes: $P(H|x)=\\frac{P(x|H)P(H)}{P(x)}$\n",
    "* Tìm class c cho T trở thành $argmax(P(T|c_j)P(c_j))$ hay $argmax(P(c_j)\\prod P(x_i|c_j)))$, bỏ $P(T)$ vì giá trị này bằng nhau cho tất cả $c_j$\n",
    "* Giả định rằng tất cả các đặc tính độc lập nhau.\n",
    "* Supervised learning: Mô hình được tạo từ các dữ liệu có sẵn\n",
    "* Trường hợp tất cả xác suất bằng 0, có thể tie break bằng epsilon hoặc probabilistic smoothing"
   ],
   "cell_type": "markdown",
   "metadata": {}
  },
  {
   "source": [
    "## 2. Continuous data - discretization\n",
    "* Continuous -> Nominal"
   ],
   "cell_type": "markdown",
   "metadata": {}
  },
  {
   "source": [
    "## 3. Continuous data - Gaussian Naive Bayes\n",
    "* Với dữ liệu continuous, có thể tính xác suất bằng phân khúc Gaussian.\n",
    "* Điều này tất nhiên cũng giả định rằng phân bố dữ liệu cũng là Gaussian."
   ],
   "cell_type": "markdown",
   "metadata": {}
  },
  {
   "source": [
    "# 4. Continuous data - Kernel Density Estimation\n",
    "* Với dữ liệu không phân bố theo Gaussian, cần có phương pháp phù hợp hơn.\n",
    "* Kernel density tổng hợp tất cả các distribution có cùng standard deviation lại thành một distribution mới.\n"
   ],
   "cell_type": "markdown",
   "metadata": {}
  }
 ]
}