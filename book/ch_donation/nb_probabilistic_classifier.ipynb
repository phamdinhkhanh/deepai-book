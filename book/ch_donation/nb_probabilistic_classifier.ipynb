{
 "metadata": {
  "language_info": {
   "codemirror_mode": {
    "name": "ipython",
    "version": 3
   },
   "file_extension": ".py",
   "mimetype": "text/x-python",
   "name": "python",
   "nbconvert_exporter": "python",
   "pygments_lexer": "ipython3",
   "version": "3.6.8"
  },
  "orig_nbformat": 2,
  "kernelspec": {
   "name": "python368jvsc74a57bd04621005da5c26ac209901ca167bf25025457b064ec855aea9ba97365ac8d4984",
   "display_name": "Python 3.6.8 64-bit"
  }
 },
 "nbformat": 4,
 "nbformat_minor": 2,
 "cells": [
  {
   "source": [
    "# Phân Loại Xác Suất (Probabilistic Classifier): Naive Bayes và KDE\n",
    "*Đóng góp: Nguyễn Tuấn Khôi, The University of Melbourne, Australia*"
   ],
   "cell_type": "markdown",
   "metadata": {}
  },
  {
   "cell_type": "code",
   "execution_count": 1,
   "metadata": {},
   "outputs": [],
   "source": [
    "import numpy as np \n",
    "import pandas as pd\n",
    "from collections import defaultdict"
   ]
  },
  {
   "source": [
    "## 0. Mô hình phân loại xác suất cơ bản\n",
    "\n",
    "Chúng ta bắt đầu bằng 1 bài toán xác suất cơ bản: \n",
    "\n",
    "> Một ngày đẹp trời, bạn đi xem thầy bói. Thầy phán rằng bạn sẽ ế trước khi bạn 30. Bạn biết rằng trước đó có 10 người bạn già của bạn cũng đi xem ông này bói, và có 6 người ông ấy phán là sẽ ế. Trong 6 người đó, có 2 người sau này lại có người yêu trước 30, còn 4 người ông ấy phán không ế, có 1 ông tới năm 30 vẫn phải quẹt Tinder. Bạn thắc mắc rằng, khả năng mình ế thật sự sẽ là bao nhiêu phần trăm?\n",
    "\n",
    "Trong các phương pháp để phân loại dữ liệu, sử dụng xác suất là một trong những phương pháp phổ biến nhất. Từ 1 tập dữ liệu có sẵn, ta có thể tính toán ra các xác suất của từng phân loại cho mỗi thực thể T. Và hiển nhiên, các mô hình này sẽ chọn phân loại khả thi nhất cho thực thể đó:\n",
    "\n",
    "$$$\n",
    "class(T) = argmax_{c_i}[P(c_i|T)]\n",
    "$$$\n",
    "\n",
    "> 'Tên gì? Nhà quận mấy? Có xe chưa?...'\n",
    "\n",
    "Tất nhiên khi xem bói, thì ông thầy bói cũng hỏi bạn đủ thứ số mệnh rồi. Trong những trường hợp 1 thực thể T có nhiều đặc điểm x, thì mô hình sẽ tổng hợp xác suất cho mỗi đặc điểm, rồi cộng lại với nhau:\n",
    "\n",
    "$$$\n",
    "class(T) = argmax_{c_i}\\Big[\\sum_{x_j \\in T} P(c_i|x_j)\\Big]\n",
    "$$$\n",
    "\n"
   ],
   "cell_type": "markdown",
   "metadata": {}
  },
  {
   "cell_type": "code",
   "execution_count": 2,
   "metadata": {},
   "outputs": [
    {
     "output_type": "stream",
     "name": "stdout",
     "text": [
      "THẦY BÓI TÌNH DUYÊN 4.0\n",
      "********************************************************************************\n",
      "   đẹp trai  khoai to  học giỏi      Ế\n",
      "0     False      True     False   True\n",
      "1     False     False     False   True\n",
      "2     False      True     False   True\n",
      "3      True      True      True   True\n",
      "4      True     False     False  False\n",
      "5      True      True      True  False\n",
      "6     False      True     False   True\n",
      "7      True     False      True  False\n",
      "8      True      True      True  False\n",
      "9     False     False     False  False\n",
      "********************************************************************************\n",
      "P(Ế | đẹp trai = True): 0.20\t\t\t P(Ế | đẹp trai = False): 0.80\n",
      "P(Không Ế | đẹp trai = True): 0.80\t\t P(Không Ế | đẹp trai = False): 0.20\n",
      "P(Ế | khoai to = True): 0.80\t\t\t P(Ế | khoai to = False): 0.20\n",
      "P(Không Ế | khoai to = True): 0.40\t\t P(Không Ế | khoai to = False): 0.60\n",
      "P(Ế | học giỏi = True): 0.20\t\t\t P(Ế | học giỏi = False): 0.80\n",
      "P(Không Ế | học giỏi = True): 0.60\t\t P(Không Ế | học giỏi = False): 0.40\n",
      "\n",
      " P(Ế) = P(Ế | đẹp trai = True) + P(Ế | khoai to = True) + P(Ế | học giỏi = False) = 1.80\n",
      " P(Không Ế) = P(Không Ế | đẹp trai = False) + P(Không Ế | khoai to = False) + P(Không Ế | học giỏi = True) = 1.20\n",
      "\n",
      "Bạn ế chỏng chơ tới 30, đen thôi đỏ quên đi.\n"
     ]
    }
   ],
   "source": [
    "test = defaultdict(str)\n",
    "p_e_given_true = defaultdict(float)\n",
    "p_e_given_false = defaultdict(float)\n",
    "p_not_e_given_true = defaultdict(float)\n",
    "p_not_e_given_false = defaultdict(float)\n",
    "trait_list = []\n",
    "non_trait_list = []\n",
    "\n",
    "print(\"THẦY BÓI TÌNH DUYÊN 4.0\")\n",
    "# Nhập và phân tách dữ liệu\n",
    "data = pd.read_csv('train.csv').select_dtypes(include = 'bool')\n",
    "print(\"*\"*80)\n",
    "print(data)\n",
    "print(\"*\"*80)\n",
    "true_data = data.loc[data['Ế']==True]\n",
    "false_data = data.loc[data['Ế']==False]\n",
    "\n",
    "# Tổng hợp lại từng xác suất trong từng trường hợp, đồng thời hỏi thông tin người xem bói\n",
    "for c in data.columns[:-1]:\n",
    "    test[c] = input(\"Bạn có \" + c + \" không? (Y/N)\") in 'YESYesyes'\n",
    "    true_col = true_data.loc[true_data[c]==True]\n",
    "    false_col = false_data.loc[false_data[c]==True]\n",
    "    p_e_given_true[c] = len(true_col)/len(true_data)\n",
    "    p_e_given_false[c] = 1-p_e_given_true[c]\n",
    "    p_not_e_given_true[c] = len(false_col)/len(false_data)\n",
    "    p_not_e_given_false[c] = 1-p_not_e_given_true[c]\n",
    "\n",
    "    print(f\"P(Ế | {c:s} = True): {p_e_given_true[c]:.2f}\\t\\t\\t P(Ế | {c:s} = False): {p_e_given_false[c]:.2f}\")\n",
    "    print(f\"P(Không Ế | {c:s} = True): {p_not_e_given_true[c]:.2f}\\t\\t P(Không Ế | {c:s} = False): {p_not_e_given_false[c]:.2f}\")\n",
    "\n",
    "# Tổng các xác suất cho \"ế\" và \"không ế\"\n",
    "e_total = sum([p_e_given_true[c] if test[c] else p_e_given_false[c] for c in data.columns[:-1]])\n",
    "khong_e_total = len(data.columns[:-1])-e_total\n",
    "\n",
    "print(\"\\n P(Ế) = \" + \" + \".join([f\"P(Ế | {c:s} = {str(test[c]):s})\" for c in data.columns[:-1]]) + f\" = {e_total:.2f}\")\n",
    "print(\" P(Không Ế) = \" + \" + \".join([f\"P(Không Ế | {c:s} = {str(not test[c]):s})\" for c in data.columns[:-1]]) + f\" = {khong_e_total:.2f}\\n\")\n",
    "\n",
    "res = \"ế chỏng chơ tới 30, đen thôi đỏ quên đi.\" if e_total > khong_e_total else \"còn cơ hội trước 30. Quẩy lên.\"\n",
    "print(f\"Bạn {res:s}\")\n"
   ]
  },
  {
   "source": [
    "Để có thể đủ dữ liệu để so sánh, với $c$ phân loại, $m$ đặc điểm, mỗi đặc điểm gồm $k$ loại, ta cần $O(ck^m)$ để có thể dự đoán cho mọi trường hợp. Nhưng thực tế, không làm mà đòi có ăn là không được, dữ liệu không phải lúc nào cũng có đầy đủ. Nếu như mỗi cá thể có tới trên 20 biến nhị phân, thì sẽ cần tối thiểu $c \\times 2^{20} \\approx c \\times 10^6$ dữ liệu. Và vì vậy, cần có một phương pháp phù hợp hơn để phân loại, thay vì cứ gom lại."
   ],
   "cell_type": "markdown",
   "metadata": {}
  },
  {
   "source": [
    "## 1. Naive Bayes - Biến rời rạc\n",
    "### 1.1 Mô hình\n",
    "Cách đơn giản nhất để xử lí việc không có đủ dữ liệu trùng khớp để so sánh, đó là tìm ngược lại rằng liệu mỗi phân loại có thể có những đặc điểm trên hay không. Thay vì tìm một người như bạn rồi xem người đó có ế hay không, ông thầy sẽ tìm xem người ế thường giống bạn chỗ nào không. Nói một cách toán học, thì ta sẽ tìm $P(x_j|c_i)$ từ $P(c_i|x_j)$. Nguyên lí Bayes là công thức ta cần để đạt được việc này:\n",
    "\n",
    "$$$\n",
    "P(H|x)=\\frac{P(x|H)P(H)}{P(x)}\n",
    "$$$\n",
    "\n",
    "Những gì ta cần là:\n",
    "* $P(H|x)$ - Những đối tượng có đặc tính $x$ có bao nhiêu phần thuộc phân loại $H$?\n",
    "* $P(H)$ - Phân loại $H$ chiếm bao nhiêu phần trong tập thể?\n",
    "* $P(x)$ - Đặc điểm $x$ chiếm bao nhiêu phần trong tập thể?\n",
    "\n",
    "Bằng công thức này, ta sẽ chọn phân loại có nhiều đặc tính trùng khớp với đối tượng nhất:\n",
    "\n",
    "$$$\n",
    "class(T) = argmax_{c_i}\\Big[\\frac{P(T|c_i)P(c_i)}{P(T)}\\Big]\n",
    "$$$\n",
    "\n",
    "Với nhiều đặc điểm, nguyên lí Bayes sẽ giả định rằng những đặc điểm này độc lập lẫn nhau cho dễ tính, và điều này tạo nên cái tên \"Naive\" (nai tơ). Như vậy, ta có thể sử dụng công thức tính xác suất của các đặc điểm độc lập:\n",
    "\n",
    "$$$\n",
    "P(x_1,x_2,...,x_n|c) = \\prod_{x_i \\in T} P(x_i|c)\n",
    "$$$\n",
    "\n",
    "Bằng cách thay thực thể $T$ bằng 1 dãy đặc điểm $[x_1,x_2,...,x_n]$, công thức sẽ trở thành:\n",
    "\n",
    "$$$\n",
    "class(T) = argmax_{c_i}\\Big[\\frac{P(c_i)\\prod_{x_i \\in T} P(x_i|c)}{P(T)}\\Big]\n",
    "$$$\n",
    "\n",
    "Khoan, dừng lại khoảng chừng là 20 giây! Có thể rút gọn phần nào phương trình này không?\n",
    "\n",
    "Chúng ta có thể để ý rằng dù cho phân loại có là gì, thì xác suất tìm được các đặc tính trong một tập thể $P(T)$ vẫn giữ nguyên và không làm ảnh hưởng đến trật tự của các kết quả. Và vì vậy, con số này không nhất thiết phải mang vào công thức, vì mục đích cuối cùng của mô hình vẫn là so sánh để tìm ra xác suất lớn nhất mà thôi:\n",
    "\n",
    "$$$\n",
    "class(T) = argmax_{c_i}\\Big[P(c_i)\\prod_{x_i \\in T} P(x_i|c)\\Big]\n",
    "$$$"
   ],
   "cell_type": "markdown",
   "metadata": {}
  },
  {
   "cell_type": "code",
   "execution_count": 3,
   "metadata": {},
   "outputs": [
    {
     "output_type": "stream",
     "name": "stdout",
     "text": [
      "THẦY BÓI TÌNH DUYÊN 4.0.1\n",
      "********************************************************************************\n",
      "   đẹp trai  khoai to  học giỏi      Ế\n",
      "0     False      True     False   True\n",
      "1     False     False     False   True\n",
      "2     False      True     False   True\n",
      "3      True      True      True   True\n",
      "4      True     False     False  False\n",
      "5      True      True      True  False\n",
      "6     False      True     False   True\n",
      "7      True     False      True  False\n",
      "8      True      True      True  False\n",
      "9     False     False     False  False\n",
      "********************************************************************************\n",
      "Bạn còn cơ hội trước 30. Quẩy lên.\n"
     ]
    }
   ],
   "source": [
    "from sklearn.naive_bayes import CategoricalNB\n",
    "\n",
    "input_info = []\n",
    "\n",
    "print(\"THẦY BÓI TÌNH DUYÊN 4.0.1\")\n",
    "data = pd.read_csv('train.csv').select_dtypes(include = 'bool')\n",
    "print(\"*\"*80)\n",
    "print(data)\n",
    "print(\"*\"*80)\n",
    "for c in data.columns[:-1]:\n",
    "    input_info.append(input(\"Bạn có \" + c + \" không? (Y/N)\") in 'YESYesyes')\n",
    "\n",
    "x = data.iloc[:,:-1]\n",
    "y = data.iloc[:,-1]\n",
    "\n",
    "clf = CategoricalNB(alpha = 0.5) # Laplace Smoothing, xem 1.2.3\n",
    "clf.fit(x, y)\n",
    "\n",
    "out = clf.predict([input_info])\n",
    "res = \"ế chỏng chơ tới 30, đen thôi đỏ quên đi.\" if out[0] else \"còn cơ hội trước 30. Quẩy lên.\"\n",
    "print(f\"Bạn {res:s}\")"
   ]
  },
  {
   "source": [
    "Bằng cách tổng hợp các xác suất từ dữ liệu có sẵn, ta có thể thấy mô hình Naive Bayes là một mô hình supervised đưa ra dự đoán từ thông tin có sẵn, giả định sự độc lập của các đặc điểm để tính toán thuận tiện hơn. Tuy nhiên ngoài thực tế, hầu hết các đặc điểm đều không độc lập hoàn toàn khỏi các đặc điểm khác, và vì thế mô hình này không hoàn toàn chính xác. Dù vậy, Naive Bayes vẫn trở nên hiệu quả trong hầu hết các trường hợp, và là một trong các mô hình phân loại phổ biến trong Machine Learning. Thực tế thì ông thầy bói mà nói toẹt ra rằng việc bạn thế này không ảnh hưởng tới việc bạn thế kia thì còn ai mà đi xem bói nữa đâu hehe.\n",
    "\n",
    "### 1.2 Tie breaking\n",
    "\n",
    "> Nếu bạn muốn bói tình duyên cho con Vitamin Gâu Gâu nhà bạn, liệu ông thầy bói có dự đoán được không?\n",
    "\n",
    "Khi dự đoán, nếu một đặc điểm không thể xảy ra trong 1 phân loại, thì hiển nhiên xác suất cá thể đó thuộc phân loại kể trên là 0. Chính tại đây, khuyết điểm của mô hình Naive Bayes xuất hiện khi 1 cá thể có những đặc tính hiếm gần như chưa được thấy bao giờ, và vì vậy trở nên bất khả thi cho hầu hết mọi trường hợp. Và vì vậy, cần một phương pháp hợp lí để phân định rõ ràng những cá thể trên.\n",
    "\n",
    "#### 1.2.1 Phân loại ngẫu nhiên\n",
    "Đúng như tên gọi, phương pháp này là \"vạn sự tùy duyên\".\n",
    "\n",
    "#### 1.2.2 Thay biến epsilon\n",
    "Thay vì nói rằng xác suất bằng 0 là *bất khả thi* cho 1 phân loại $c$, có thể thay đổi cách nói thành *ca này khó*. Thay vì đưa 0 vào tích các xác suất, ta có thể đưa vào 1 con số $\\epsilon < \\frac{1}{count(c_i)}$. Như vậy, ta sẽ có 1 loạt ca khó, nhưng khi mà ca nào cũng khó, cái ít khó nhất hiển nhiên trở thành điều khả thi nhất.\n",
    "\n",
    "#### 1.2.3 Laplace Smoothing - Tịnh tiến Laplace\n",
    "Một cách khác để thay *bất khả thi* thành *ca này khó* là đếm dư thêm 1 (hoặc 1 số $\\alpha \\in [0,1]$) trường hợp cho mỗi đặc điểm $x_i$:\n",
    "\n",
    "$$$\n",
    "P_i = \\frac{x_i}{N} \\text{(Nguyên bản)} = \\frac{x_i + \\alpha}{N + \\alpha d} \\text{(Đã tịnh tiến, d = Số thực thể)}\n",
    "$$$"
   ],
   "cell_type": "markdown",
   "metadata": {}
  },
  {
   "source": [
    "## 2. Naive Bayes - Biến liên tục\n",
    "\n",
    "> 'Tuổi? Cao bao nhiêu? BMI?...'\n",
    "\n",
    "Sẽ dễ dàng biết mấy nếu ông thầy bói chỉ hỏi những câu hỏi mà bạn chỉ việc trả lời có hoặc không. Nhưng nếu như bạn phải trả lời bằng một con số (ví dụ như tuổi, chiều cao, ...) thì sao? Phương pháp Naive Bayes kể trên sử dụng tốt cho những biến rời rạc, nhưng khi những đặc điểm không chỉ là phân loại, mà là các con số đo đạc, cần phải có những cải biến cho mô hình để có thể áp dụng biến liên tục vào dự đoán."
   ],
   "cell_type": "markdown",
   "metadata": {}
  },
  {
   "source": [
    "### 2.1 Phân tách\n",
    "\n",
    "Có thể phân dữ liệu của 1 biến liên tục thành các phần khác nhau, và phân loại cho từng phần thành 1 nhóm chung. \n",
    "\n",
    "#### 2.1.1 Phân tách theo khoảng (Uniform Discretization)\n",
    "> 'Ngày sinh $\\rightarrow$ Cung hoàng đạo'\n",
    "\n",
    "Tìm khoảng giá trị của các dữ liệu, và chia đều thành $n$ khoảng nhỏ. Dữ liệu nằm trong cùng 1 khoảng giá trị đã chia sẽ được gộp thành 1 nhóm. \n",
    "\n",
    "#### 2.2.2 Phân tách theo số lượng (Quantile Discretization)\n",
    "> 'MMR $\\rightarrow$ Rank LoL (Top %)'\n",
    "\n",
    "Sắp xếp thứ tự lại cho dữ liệu từ thấp đến cao hoặc ngược lại. Lấy $n$ dữ liệu đầu tiên gộp thành một nhóm, và cứ thế lặp lại cho mỗi $n$ (hoặc 1 số lượng khác tùy ý) dữ liệu tiếp theo.\n",
    "\n",
    "#### 2.2.3 Các phương pháp clustering khác\n",
    "> 'Địa chỉ $\\rightarrow$ Nhà nghỉ gần nhất'\n",
    "\n",
    "*Xem thêm: K-Means Clustering và KNN (Chương 4)*"
   ],
   "cell_type": "markdown",
   "metadata": {}
  },
  {
   "cell_type": "code",
   "execution_count": 4,
   "metadata": {},
   "outputs": [
    {
     "output_type": "execute_result",
     "data": {
      "text/plain": [
       "   lương tháng  Uniform  Quantile  K-Means\n",
       "0   30000000.0      1.0       4.0      0.0\n",
       "1    7000000.0      0.0       2.0      0.0\n",
       "2   15000000.0      0.0       3.0      0.0\n",
       "3    3000000.0      0.0       0.0      0.0\n",
       "4    5000000.0      0.0       1.0      0.0\n",
       "5   12000000.0      0.0       2.0      0.0\n",
       "6    5500000.0      0.0       1.0      0.0\n",
       "7   25000000.0      1.0       3.0      0.0\n",
       "8    4000000.0      0.0       0.0      0.0\n",
       "9  100000000.0      4.0       4.0      1.0"
      ],
      "text/html": "<div>\n<style scoped>\n    .dataframe tbody tr th:only-of-type {\n        vertical-align: middle;\n    }\n\n    .dataframe tbody tr th {\n        vertical-align: top;\n    }\n\n    .dataframe thead th {\n        text-align: right;\n    }\n</style>\n<table border=\"1\" class=\"dataframe\">\n  <thead>\n    <tr style=\"text-align: right;\">\n      <th></th>\n      <th>lương tháng</th>\n      <th>Uniform</th>\n      <th>Quantile</th>\n      <th>K-Means</th>\n    </tr>\n  </thead>\n  <tbody>\n    <tr>\n      <th>0</th>\n      <td>30000000.0</td>\n      <td>1.0</td>\n      <td>4.0</td>\n      <td>0.0</td>\n    </tr>\n    <tr>\n      <th>1</th>\n      <td>7000000.0</td>\n      <td>0.0</td>\n      <td>2.0</td>\n      <td>0.0</td>\n    </tr>\n    <tr>\n      <th>2</th>\n      <td>15000000.0</td>\n      <td>0.0</td>\n      <td>3.0</td>\n      <td>0.0</td>\n    </tr>\n    <tr>\n      <th>3</th>\n      <td>3000000.0</td>\n      <td>0.0</td>\n      <td>0.0</td>\n      <td>0.0</td>\n    </tr>\n    <tr>\n      <th>4</th>\n      <td>5000000.0</td>\n      <td>0.0</td>\n      <td>1.0</td>\n      <td>0.0</td>\n    </tr>\n    <tr>\n      <th>5</th>\n      <td>12000000.0</td>\n      <td>0.0</td>\n      <td>2.0</td>\n      <td>0.0</td>\n    </tr>\n    <tr>\n      <th>6</th>\n      <td>5500000.0</td>\n      <td>0.0</td>\n      <td>1.0</td>\n      <td>0.0</td>\n    </tr>\n    <tr>\n      <th>7</th>\n      <td>25000000.0</td>\n      <td>1.0</td>\n      <td>3.0</td>\n      <td>0.0</td>\n    </tr>\n    <tr>\n      <th>8</th>\n      <td>4000000.0</td>\n      <td>0.0</td>\n      <td>0.0</td>\n      <td>0.0</td>\n    </tr>\n    <tr>\n      <th>9</th>\n      <td>100000000.0</td>\n      <td>4.0</td>\n      <td>4.0</td>\n      <td>1.0</td>\n    </tr>\n  </tbody>\n</table>\n</div>"
     },
     "metadata": {},
     "execution_count": 4
    }
   ],
   "source": [
    "from sklearn.preprocessing import KBinsDiscretizer\n",
    "data = pd.read_csv('train.csv').iloc[:,-2:]\n",
    "X = data.iloc[:,:-1]\n",
    "\n",
    "unif = KBinsDiscretizer(n_bins=5, encode='ordinal', strategy='uniform')\n",
    "kmeans = KBinsDiscretizer(n_bins=2, encode='ordinal', strategy='kmeans')\n",
    "quant = KBinsDiscretizer(n_bins=5, encode='ordinal', strategy='quantile')\n",
    "\n",
    "u = unif.fit_transform(X)\n",
    "data[\"Uniform\"]=u\n",
    "\n",
    "q = quant.fit_transform(X)\n",
    "data[\"Quantile\"]=q\n",
    "\n",
    "k = kmeans.fit_transform(X)\n",
    "data[\"K-Means\"]=k\n",
    "\n",
    "data.drop(data.columns[1],axis=1)"
   ]
  },
  {
   "source": [
    "Việc phân tách có thể hiệu quả trong việc giản lược số liệu, nhưng đồng thời cũng sẽ làm giảm đi lượng thông tin có được. Một trong các cách để có thể giữ được lại nhiều thông tin nhất, đó là sử dụng phân phối để tính ra xác suất."
   ],
   "cell_type": "markdown",
   "metadata": {}
  },
  {
   "source": [
    "### 2.2 Gaussian Naive Bayes\n",
    "Gaussian Naive Bayes vận hành như mô hình Naive Bayes thuần túy, nhưng lấy xác suất từ công thức phân phối Gaussian (phân phối chuẩn):\n",
    "\n",
    "$$$\n",
    "P(x_i|c) = \\frac{1}{\\sigma \\sqrt{2\\pi}}e^{-0.5\\displaystyle \\big(\\frac{x_i-\\mu}{\\sigma}\\big)^2} \\\\\n",
    "\n",
    "x_i \\in N(\\mu,\\sigma),\n",
    "\\;\\;\\;\\;\\;\n",
    "\\mu = \\sum_{x_i} \\frac{x_i}{N},\n",
    "\\;\\;\\;\\;\\;\n",
    "\\sigma = \\sqrt{\\frac{\\sum^N_{i=1} (x_i-\\mu)^2}{N-1}}\n",
    "$$$\n",
    "\n",
    "Và ta có thể thấy hiển nhiên rằng mô hình này giả định rằng dữ liệu được phân bố chuẩn. Điều này đúng trong hầu hết các trường hợp, khi mà phân phối chuẩn có thể dùng để ước lượng thay cho phần lớn các phân phối khác như nhị thức, Possion, Chi-square,..."
   ],
   "cell_type": "markdown",
   "metadata": {}
  },
  {
   "cell_type": "code",
   "execution_count": 9,
   "metadata": {},
   "outputs": [
    {
     "output_type": "stream",
     "name": "stdout",
     "text": [
      "THẦY BÓI TÌNH DUYÊN 4.0.2\n",
      "****************************************\n",
      "   lương tháng      Ế\n",
      "0   30000000.0   True\n",
      "1    7000000.0   True\n",
      "2   15000000.0   True\n",
      "3    3000000.0   True\n",
      "4    5000000.0  False\n",
      "5   12000000.0  False\n",
      "6    5500000.0   True\n",
      "7   25000000.0  False\n",
      "8    4000000.0  False\n",
      "9  100000000.0  False\n",
      "****************************************\n",
      "Bạn ế chỏng chơ tới 30, đen thôi đỏ quên đi.\n"
     ]
    }
   ],
   "source": [
    "from sklearn.naive_bayes import GaussianNB\n",
    "\n",
    "print(\"THẦY BÓI TÌNH DUYÊN 4.0.2\")\n",
    "salary = int(input(\"Nhập lương tháng của bạn (VNĐ): \"))\n",
    "\n",
    "data = pd.read_csv('train.csv').iloc[:,-2:]\n",
    "print(\"*\"*40)\n",
    "print(data)\n",
    "print(\"*\"*40)\n",
    "X = data.iloc[:,:-1]\n",
    "y = data.iloc[:,-1]\n",
    "\n",
    "clf = GaussianNB()\n",
    "clf.fit(X,y)\n",
    "out = clf.predict([[salary]])\n",
    "res = \"ế chỏng chơ tới 30, đen thôi đỏ quên đi.\" if out[0] else \"còn cơ hội trước 30. Quẩy lên.\"\n",
    "print(f\"Bạn {res:s}\")"
   ]
  },
  {
   "source": [
    "### 2.3 Kernel Density Estimation\n",
    "\n",
    "Tuy Gaussian Naive Bayes có thể sử dụng rộng rãi, dữ liệu ngoài thực tế thường có sự chênh lệch, và vì vậy không đảm bảo tính chính xác cao.\n"
   ],
   "cell_type": "markdown",
   "metadata": {}
  },
  {
   "cell_type": "code",
   "execution_count": 30,
   "metadata": {},
   "outputs": [
    {
     "output_type": "stream",
     "name": "stderr",
     "text": [
      "C:\\Users\\HP OMEN 15\\AppData\\Local\\Programs\\Python\\Python36\\lib\\site-packages\\seaborn\\distributions.py:2551: FutureWarning: `distplot` is a deprecated function and will be removed in a future version. Please adapt your code to use either `displot` (a figure-level function with similar flexibility) or `kdeplot` (an axes-level function for kernel density plots).\n  warnings.warn(msg, FutureWarning)\n"
     ]
    },
    {
     "output_type": "execute_result",
     "data": {
      "text/plain": [
       "<matplotlib.axes._subplots.AxesSubplot at 0x1ade8048518>"
      ]
     },
     "metadata": {},
     "execution_count": 30
    },
    {
     "output_type": "display_data",
     "data": {
      "text/plain": "<Figure size 432x288 with 1 Axes>",
      "image/svg+xml": "<?xml version=\"1.0\" encoding=\"utf-8\" standalone=\"no\"?>\r\n<!DOCTYPE svg PUBLIC \"-//W3C//DTD SVG 1.1//EN\"\r\n  \"http://www.w3.org/Graphics/SVG/1.1/DTD/svg11.dtd\">\r\n<!-- Created with matplotlib (https://matplotlib.org/) -->\r\n<svg height=\"271.794688pt\" version=\"1.1\" viewBox=\"0 0 392.14375 271.794688\" width=\"392.14375pt\" xmlns=\"http://www.w3.org/2000/svg\" xmlns:xlink=\"http://www.w3.org/1999/xlink\">\r\n <defs>\r\n  <style type=\"text/css\">\r\n*{stroke-linecap:butt;stroke-linejoin:round;}\r\n  </style>\r\n </defs>\r\n <g id=\"figure_1\">\r\n  <g id=\"patch_1\">\r\n   <path d=\"M 0 271.794688 \r\nL 392.14375 271.794688 \r\nL 392.14375 0 \r\nL 0 0 \r\nz\r\n\" style=\"fill:none;\"/>\r\n  </g>\r\n  <g id=\"axes_1\">\r\n   <g id=\"patch_2\">\r\n    <path d=\"M 50.14375 235.238438 \r\nL 384.94375 235.238438 \r\nL 384.94375 17.798438 \r\nL 50.14375 17.798438 \r\nz\r\n\" style=\"fill:#ffffff;\"/>\r\n   </g>\r\n   <g id=\"matplotlib.axis_1\">\r\n    <g id=\"xtick_1\">\r\n     <g id=\"line2d_1\">\r\n      <defs>\r\n       <path d=\"M 0 0 \r\nL 0 3.5 \r\n\" id=\"m872f1861ce\" style=\"stroke:#000000;stroke-width:0.8;\"/>\r\n      </defs>\r\n      <g>\r\n       <use style=\"stroke:#000000;stroke-width:0.8;\" x=\"69.131578\" xlink:href=\"#m872f1861ce\" y=\"235.238438\"/>\r\n      </g>\r\n     </g>\r\n     <g id=\"text_1\">\r\n      <!-- −0.5 -->\r\n      <defs>\r\n       <path d=\"M 10.59375 35.5 \r\nL 73.1875 35.5 \r\nL 73.1875 27.203125 \r\nL 10.59375 27.203125 \r\nz\r\n\" id=\"DejaVuSans-8722\"/>\r\n       <path d=\"M 31.78125 66.40625 \r\nQ 24.171875 66.40625 20.328125 58.90625 \r\nQ 16.5 51.421875 16.5 36.375 \r\nQ 16.5 21.390625 20.328125 13.890625 \r\nQ 24.171875 6.390625 31.78125 6.390625 \r\nQ 39.453125 6.390625 43.28125 13.890625 \r\nQ 47.125 21.390625 47.125 36.375 \r\nQ 47.125 51.421875 43.28125 58.90625 \r\nQ 39.453125 66.40625 31.78125 66.40625 \r\nz\r\nM 31.78125 74.21875 \r\nQ 44.046875 74.21875 50.515625 64.515625 \r\nQ 56.984375 54.828125 56.984375 36.375 \r\nQ 56.984375 17.96875 50.515625 8.265625 \r\nQ 44.046875 -1.421875 31.78125 -1.421875 \r\nQ 19.53125 -1.421875 13.0625 8.265625 \r\nQ 6.59375 17.96875 6.59375 36.375 \r\nQ 6.59375 54.828125 13.0625 64.515625 \r\nQ 19.53125 74.21875 31.78125 74.21875 \r\nz\r\n\" id=\"DejaVuSans-48\"/>\r\n       <path d=\"M 10.6875 12.40625 \r\nL 21 12.40625 \r\nL 21 0 \r\nL 10.6875 0 \r\nz\r\n\" id=\"DejaVuSans-46\"/>\r\n       <path d=\"M 10.796875 72.90625 \r\nL 49.515625 72.90625 \r\nL 49.515625 64.59375 \r\nL 19.828125 64.59375 \r\nL 19.828125 46.734375 \r\nQ 21.96875 47.46875 24.109375 47.828125 \r\nQ 26.265625 48.1875 28.421875 48.1875 \r\nQ 40.625 48.1875 47.75 41.5 \r\nQ 54.890625 34.8125 54.890625 23.390625 \r\nQ 54.890625 11.625 47.5625 5.09375 \r\nQ 40.234375 -1.421875 26.90625 -1.421875 \r\nQ 22.3125 -1.421875 17.546875 -0.640625 \r\nQ 12.796875 0.140625 7.71875 1.703125 \r\nL 7.71875 11.625 \r\nQ 12.109375 9.234375 16.796875 8.0625 \r\nQ 21.484375 6.890625 26.703125 6.890625 \r\nQ 35.15625 6.890625 40.078125 11.328125 \r\nQ 45.015625 15.765625 45.015625 23.390625 \r\nQ 45.015625 31 40.078125 35.4375 \r\nQ 35.15625 39.890625 26.703125 39.890625 \r\nQ 22.75 39.890625 18.8125 39.015625 \r\nQ 14.890625 38.140625 10.796875 36.28125 \r\nz\r\n\" id=\"DejaVuSans-53\"/>\r\n      </defs>\r\n      <g transform=\"translate(56.990172 249.836875)scale(0.1 -0.1)\">\r\n       <use xlink:href=\"#DejaVuSans-8722\"/>\r\n       <use x=\"83.789062\" xlink:href=\"#DejaVuSans-48\"/>\r\n       <use x=\"147.412109\" xlink:href=\"#DejaVuSans-46\"/>\r\n       <use x=\"179.199219\" xlink:href=\"#DejaVuSans-53\"/>\r\n      </g>\r\n     </g>\r\n    </g>\r\n    <g id=\"xtick_2\">\r\n     <g id=\"line2d_2\">\r\n      <g>\r\n       <use style=\"stroke:#000000;stroke-width:0.8;\" x=\"142.241023\" xlink:href=\"#m872f1861ce\" y=\"235.238438\"/>\r\n      </g>\r\n     </g>\r\n     <g id=\"text_2\">\r\n      <!-- 0.0 -->\r\n      <g transform=\"translate(134.28946 249.836875)scale(0.1 -0.1)\">\r\n       <use xlink:href=\"#DejaVuSans-48\"/>\r\n       <use x=\"63.623047\" xlink:href=\"#DejaVuSans-46\"/>\r\n       <use x=\"95.410156\" xlink:href=\"#DejaVuSans-48\"/>\r\n      </g>\r\n     </g>\r\n    </g>\r\n    <g id=\"xtick_3\">\r\n     <g id=\"line2d_3\">\r\n      <g>\r\n       <use style=\"stroke:#000000;stroke-width:0.8;\" x=\"215.350467\" xlink:href=\"#m872f1861ce\" y=\"235.238438\"/>\r\n      </g>\r\n     </g>\r\n     <g id=\"text_3\">\r\n      <!-- 0.5 -->\r\n      <g transform=\"translate(207.398904 249.836875)scale(0.1 -0.1)\">\r\n       <use xlink:href=\"#DejaVuSans-48\"/>\r\n       <use x=\"63.623047\" xlink:href=\"#DejaVuSans-46\"/>\r\n       <use x=\"95.410156\" xlink:href=\"#DejaVuSans-53\"/>\r\n      </g>\r\n     </g>\r\n    </g>\r\n    <g id=\"xtick_4\">\r\n     <g id=\"line2d_4\">\r\n      <g>\r\n       <use style=\"stroke:#000000;stroke-width:0.8;\" x=\"288.459911\" xlink:href=\"#m872f1861ce\" y=\"235.238438\"/>\r\n      </g>\r\n     </g>\r\n     <g id=\"text_4\">\r\n      <!-- 1.0 -->\r\n      <defs>\r\n       <path d=\"M 12.40625 8.296875 \r\nL 28.515625 8.296875 \r\nL 28.515625 63.921875 \r\nL 10.984375 60.40625 \r\nL 10.984375 69.390625 \r\nL 28.421875 72.90625 \r\nL 38.28125 72.90625 \r\nL 38.28125 8.296875 \r\nL 54.390625 8.296875 \r\nL 54.390625 0 \r\nL 12.40625 0 \r\nz\r\n\" id=\"DejaVuSans-49\"/>\r\n      </defs>\r\n      <g transform=\"translate(280.508348 249.836875)scale(0.1 -0.1)\">\r\n       <use xlink:href=\"#DejaVuSans-49\"/>\r\n       <use x=\"63.623047\" xlink:href=\"#DejaVuSans-46\"/>\r\n       <use x=\"95.410156\" xlink:href=\"#DejaVuSans-48\"/>\r\n      </g>\r\n     </g>\r\n    </g>\r\n    <g id=\"xtick_5\">\r\n     <g id=\"line2d_5\">\r\n      <g>\r\n       <use style=\"stroke:#000000;stroke-width:0.8;\" x=\"361.569355\" xlink:href=\"#m872f1861ce\" y=\"235.238438\"/>\r\n      </g>\r\n     </g>\r\n     <g id=\"text_5\">\r\n      <!-- 1.5 -->\r\n      <g transform=\"translate(353.617792 249.836875)scale(0.1 -0.1)\">\r\n       <use xlink:href=\"#DejaVuSans-49\"/>\r\n       <use x=\"63.623047\" xlink:href=\"#DejaVuSans-46\"/>\r\n       <use x=\"95.410156\" xlink:href=\"#DejaVuSans-53\"/>\r\n      </g>\r\n     </g>\r\n    </g>\r\n    <g id=\"text_6\">\r\n     <!-- 1e8 -->\r\n     <defs>\r\n      <path d=\"M 56.203125 29.59375 \r\nL 56.203125 25.203125 \r\nL 14.890625 25.203125 \r\nQ 15.484375 15.921875 20.484375 11.0625 \r\nQ 25.484375 6.203125 34.421875 6.203125 \r\nQ 39.59375 6.203125 44.453125 7.46875 \r\nQ 49.3125 8.734375 54.109375 11.28125 \r\nL 54.109375 2.78125 \r\nQ 49.265625 0.734375 44.1875 -0.34375 \r\nQ 39.109375 -1.421875 33.890625 -1.421875 \r\nQ 20.796875 -1.421875 13.15625 6.1875 \r\nQ 5.515625 13.8125 5.515625 26.8125 \r\nQ 5.515625 40.234375 12.765625 48.109375 \r\nQ 20.015625 56 32.328125 56 \r\nQ 43.359375 56 49.78125 48.890625 \r\nQ 56.203125 41.796875 56.203125 29.59375 \r\nz\r\nM 47.21875 32.234375 \r\nQ 47.125 39.59375 43.09375 43.984375 \r\nQ 39.0625 48.390625 32.421875 48.390625 \r\nQ 24.90625 48.390625 20.390625 44.140625 \r\nQ 15.875 39.890625 15.1875 32.171875 \r\nz\r\n\" id=\"DejaVuSans-101\"/>\r\n      <path d=\"M 31.78125 34.625 \r\nQ 24.75 34.625 20.71875 30.859375 \r\nQ 16.703125 27.09375 16.703125 20.515625 \r\nQ 16.703125 13.921875 20.71875 10.15625 \r\nQ 24.75 6.390625 31.78125 6.390625 \r\nQ 38.8125 6.390625 42.859375 10.171875 \r\nQ 46.921875 13.96875 46.921875 20.515625 \r\nQ 46.921875 27.09375 42.890625 30.859375 \r\nQ 38.875 34.625 31.78125 34.625 \r\nz\r\nM 21.921875 38.8125 \r\nQ 15.578125 40.375 12.03125 44.71875 \r\nQ 8.5 49.078125 8.5 55.328125 \r\nQ 8.5 64.0625 14.71875 69.140625 \r\nQ 20.953125 74.21875 31.78125 74.21875 \r\nQ 42.671875 74.21875 48.875 69.140625 \r\nQ 55.078125 64.0625 55.078125 55.328125 \r\nQ 55.078125 49.078125 51.53125 44.71875 \r\nQ 48 40.375 41.703125 38.8125 \r\nQ 48.828125 37.15625 52.796875 32.3125 \r\nQ 56.78125 27.484375 56.78125 20.515625 \r\nQ 56.78125 9.90625 50.3125 4.234375 \r\nQ 43.84375 -1.421875 31.78125 -1.421875 \r\nQ 19.734375 -1.421875 13.25 4.234375 \r\nQ 6.78125 9.90625 6.78125 20.515625 \r\nQ 6.78125 27.484375 10.78125 32.3125 \r\nQ 14.796875 37.15625 21.921875 38.8125 \r\nz\r\nM 18.3125 54.390625 \r\nQ 18.3125 48.734375 21.84375 45.5625 \r\nQ 25.390625 42.390625 31.78125 42.390625 \r\nQ 38.140625 42.390625 41.71875 45.5625 \r\nQ 45.3125 48.734375 45.3125 54.390625 \r\nQ 45.3125 60.0625 41.71875 63.234375 \r\nQ 38.140625 66.40625 31.78125 66.40625 \r\nQ 25.390625 66.40625 21.84375 63.234375 \r\nQ 18.3125 60.0625 18.3125 54.390625 \r\nz\r\n\" id=\"DejaVuSans-56\"/>\r\n     </defs>\r\n     <g transform=\"translate(366.065625 262.515)scale(0.1 -0.1)\">\r\n      <use xlink:href=\"#DejaVuSans-49\"/>\r\n      <use x=\"63.623047\" xlink:href=\"#DejaVuSans-101\"/>\r\n      <use x=\"125.146484\" xlink:href=\"#DejaVuSans-56\"/>\r\n     </g>\r\n    </g>\r\n   </g>\r\n   <g id=\"matplotlib.axis_2\">\r\n    <g id=\"ytick_1\">\r\n     <g id=\"line2d_6\">\r\n      <defs>\r\n       <path d=\"M 0 0 \r\nL -3.5 0 \r\n\" id=\"m3aabb8a1fa\" style=\"stroke:#000000;stroke-width:0.8;\"/>\r\n      </defs>\r\n      <g>\r\n       <use style=\"stroke:#000000;stroke-width:0.8;\" x=\"50.14375\" xlink:href=\"#m3aabb8a1fa\" y=\"235.238438\"/>\r\n      </g>\r\n     </g>\r\n     <g id=\"text_7\">\r\n      <!-- 0.00 -->\r\n      <g transform=\"translate(20.878125 239.037656)scale(0.1 -0.1)\">\r\n       <use xlink:href=\"#DejaVuSans-48\"/>\r\n       <use x=\"63.623047\" xlink:href=\"#DejaVuSans-46\"/>\r\n       <use x=\"95.410156\" xlink:href=\"#DejaVuSans-48\"/>\r\n       <use x=\"159.033203\" xlink:href=\"#DejaVuSans-48\"/>\r\n      </g>\r\n     </g>\r\n    </g>\r\n    <g id=\"ytick_2\">\r\n     <g id=\"line2d_7\">\r\n      <g>\r\n       <use style=\"stroke:#000000;stroke-width:0.8;\" x=\"50.14375\" xlink:href=\"#m3aabb8a1fa\" y=\"205.341643\"/>\r\n      </g>\r\n     </g>\r\n     <g id=\"text_8\">\r\n      <!-- 0.25 -->\r\n      <defs>\r\n       <path d=\"M 19.1875 8.296875 \r\nL 53.609375 8.296875 \r\nL 53.609375 0 \r\nL 7.328125 0 \r\nL 7.328125 8.296875 \r\nQ 12.9375 14.109375 22.625 23.890625 \r\nQ 32.328125 33.6875 34.8125 36.53125 \r\nQ 39.546875 41.84375 41.421875 45.53125 \r\nQ 43.3125 49.21875 43.3125 52.78125 \r\nQ 43.3125 58.59375 39.234375 62.25 \r\nQ 35.15625 65.921875 28.609375 65.921875 \r\nQ 23.96875 65.921875 18.8125 64.3125 \r\nQ 13.671875 62.703125 7.8125 59.421875 \r\nL 7.8125 69.390625 \r\nQ 13.765625 71.78125 18.9375 73 \r\nQ 24.125 74.21875 28.421875 74.21875 \r\nQ 39.75 74.21875 46.484375 68.546875 \r\nQ 53.21875 62.890625 53.21875 53.421875 \r\nQ 53.21875 48.921875 51.53125 44.890625 \r\nQ 49.859375 40.875 45.40625 35.40625 \r\nQ 44.1875 33.984375 37.640625 27.21875 \r\nQ 31.109375 20.453125 19.1875 8.296875 \r\nz\r\n\" id=\"DejaVuSans-50\"/>\r\n      </defs>\r\n      <g transform=\"translate(20.878125 209.140862)scale(0.1 -0.1)\">\r\n       <use xlink:href=\"#DejaVuSans-48\"/>\r\n       <use x=\"63.623047\" xlink:href=\"#DejaVuSans-46\"/>\r\n       <use x=\"95.410156\" xlink:href=\"#DejaVuSans-50\"/>\r\n       <use x=\"159.033203\" xlink:href=\"#DejaVuSans-53\"/>\r\n      </g>\r\n     </g>\r\n    </g>\r\n    <g id=\"ytick_3\">\r\n     <g id=\"line2d_8\">\r\n      <g>\r\n       <use style=\"stroke:#000000;stroke-width:0.8;\" x=\"50.14375\" xlink:href=\"#m3aabb8a1fa\" y=\"175.444849\"/>\r\n      </g>\r\n     </g>\r\n     <g id=\"text_9\">\r\n      <!-- 0.50 -->\r\n      <g transform=\"translate(20.878125 179.244068)scale(0.1 -0.1)\">\r\n       <use xlink:href=\"#DejaVuSans-48\"/>\r\n       <use x=\"63.623047\" xlink:href=\"#DejaVuSans-46\"/>\r\n       <use x=\"95.410156\" xlink:href=\"#DejaVuSans-53\"/>\r\n       <use x=\"159.033203\" xlink:href=\"#DejaVuSans-48\"/>\r\n      </g>\r\n     </g>\r\n    </g>\r\n    <g id=\"ytick_4\">\r\n     <g id=\"line2d_9\">\r\n      <g>\r\n       <use style=\"stroke:#000000;stroke-width:0.8;\" x=\"50.14375\" xlink:href=\"#m3aabb8a1fa\" y=\"145.548055\"/>\r\n      </g>\r\n     </g>\r\n     <g id=\"text_10\">\r\n      <!-- 0.75 -->\r\n      <defs>\r\n       <path d=\"M 8.203125 72.90625 \r\nL 55.078125 72.90625 \r\nL 55.078125 68.703125 \r\nL 28.609375 0 \r\nL 18.3125 0 \r\nL 43.21875 64.59375 \r\nL 8.203125 64.59375 \r\nz\r\n\" id=\"DejaVuSans-55\"/>\r\n      </defs>\r\n      <g transform=\"translate(20.878125 149.347274)scale(0.1 -0.1)\">\r\n       <use xlink:href=\"#DejaVuSans-48\"/>\r\n       <use x=\"63.623047\" xlink:href=\"#DejaVuSans-46\"/>\r\n       <use x=\"95.410156\" xlink:href=\"#DejaVuSans-55\"/>\r\n       <use x=\"159.033203\" xlink:href=\"#DejaVuSans-53\"/>\r\n      </g>\r\n     </g>\r\n    </g>\r\n    <g id=\"ytick_5\">\r\n     <g id=\"line2d_10\">\r\n      <g>\r\n       <use style=\"stroke:#000000;stroke-width:0.8;\" x=\"50.14375\" xlink:href=\"#m3aabb8a1fa\" y=\"115.651261\"/>\r\n      </g>\r\n     </g>\r\n     <g id=\"text_11\">\r\n      <!-- 1.00 -->\r\n      <g transform=\"translate(20.878125 119.45048)scale(0.1 -0.1)\">\r\n       <use xlink:href=\"#DejaVuSans-49\"/>\r\n       <use x=\"63.623047\" xlink:href=\"#DejaVuSans-46\"/>\r\n       <use x=\"95.410156\" xlink:href=\"#DejaVuSans-48\"/>\r\n       <use x=\"159.033203\" xlink:href=\"#DejaVuSans-48\"/>\r\n      </g>\r\n     </g>\r\n    </g>\r\n    <g id=\"ytick_6\">\r\n     <g id=\"line2d_11\">\r\n      <g>\r\n       <use style=\"stroke:#000000;stroke-width:0.8;\" x=\"50.14375\" xlink:href=\"#m3aabb8a1fa\" y=\"85.754467\"/>\r\n      </g>\r\n     </g>\r\n     <g id=\"text_12\">\r\n      <!-- 1.25 -->\r\n      <g transform=\"translate(20.878125 89.553686)scale(0.1 -0.1)\">\r\n       <use xlink:href=\"#DejaVuSans-49\"/>\r\n       <use x=\"63.623047\" xlink:href=\"#DejaVuSans-46\"/>\r\n       <use x=\"95.410156\" xlink:href=\"#DejaVuSans-50\"/>\r\n       <use x=\"159.033203\" xlink:href=\"#DejaVuSans-53\"/>\r\n      </g>\r\n     </g>\r\n    </g>\r\n    <g id=\"ytick_7\">\r\n     <g id=\"line2d_12\">\r\n      <g>\r\n       <use style=\"stroke:#000000;stroke-width:0.8;\" x=\"50.14375\" xlink:href=\"#m3aabb8a1fa\" y=\"55.857673\"/>\r\n      </g>\r\n     </g>\r\n     <g id=\"text_13\">\r\n      <!-- 1.50 -->\r\n      <g transform=\"translate(20.878125 59.656892)scale(0.1 -0.1)\">\r\n       <use xlink:href=\"#DejaVuSans-49\"/>\r\n       <use x=\"63.623047\" xlink:href=\"#DejaVuSans-46\"/>\r\n       <use x=\"95.410156\" xlink:href=\"#DejaVuSans-53\"/>\r\n       <use x=\"159.033203\" xlink:href=\"#DejaVuSans-48\"/>\r\n      </g>\r\n     </g>\r\n    </g>\r\n    <g id=\"ytick_8\">\r\n     <g id=\"line2d_13\">\r\n      <g>\r\n       <use style=\"stroke:#000000;stroke-width:0.8;\" x=\"50.14375\" xlink:href=\"#m3aabb8a1fa\" y=\"25.960879\"/>\r\n      </g>\r\n     </g>\r\n     <g id=\"text_14\">\r\n      <!-- 1.75 -->\r\n      <g transform=\"translate(20.878125 29.760098)scale(0.1 -0.1)\">\r\n       <use xlink:href=\"#DejaVuSans-49\"/>\r\n       <use x=\"63.623047\" xlink:href=\"#DejaVuSans-46\"/>\r\n       <use x=\"95.410156\" xlink:href=\"#DejaVuSans-55\"/>\r\n       <use x=\"159.033203\" xlink:href=\"#DejaVuSans-53\"/>\r\n      </g>\r\n     </g>\r\n    </g>\r\n    <g id=\"text_15\">\r\n     <!-- Density -->\r\n     <defs>\r\n      <path d=\"M 19.671875 64.796875 \r\nL 19.671875 8.109375 \r\nL 31.59375 8.109375 \r\nQ 46.6875 8.109375 53.6875 14.9375 \r\nQ 60.6875 21.78125 60.6875 36.53125 \r\nQ 60.6875 51.171875 53.6875 57.984375 \r\nQ 46.6875 64.796875 31.59375 64.796875 \r\nz\r\nM 9.8125 72.90625 \r\nL 30.078125 72.90625 \r\nQ 51.265625 72.90625 61.171875 64.09375 \r\nQ 71.09375 55.28125 71.09375 36.53125 \r\nQ 71.09375 17.671875 61.125 8.828125 \r\nQ 51.171875 0 30.078125 0 \r\nL 9.8125 0 \r\nz\r\n\" id=\"DejaVuSans-68\"/>\r\n      <path d=\"M 54.890625 33.015625 \r\nL 54.890625 0 \r\nL 45.90625 0 \r\nL 45.90625 32.71875 \r\nQ 45.90625 40.484375 42.875 44.328125 \r\nQ 39.84375 48.1875 33.796875 48.1875 \r\nQ 26.515625 48.1875 22.3125 43.546875 \r\nQ 18.109375 38.921875 18.109375 30.90625 \r\nL 18.109375 0 \r\nL 9.078125 0 \r\nL 9.078125 54.6875 \r\nL 18.109375 54.6875 \r\nL 18.109375 46.1875 \r\nQ 21.34375 51.125 25.703125 53.5625 \r\nQ 30.078125 56 35.796875 56 \r\nQ 45.21875 56 50.046875 50.171875 \r\nQ 54.890625 44.34375 54.890625 33.015625 \r\nz\r\n\" id=\"DejaVuSans-110\"/>\r\n      <path d=\"M 44.28125 53.078125 \r\nL 44.28125 44.578125 \r\nQ 40.484375 46.53125 36.375 47.5 \r\nQ 32.28125 48.484375 27.875 48.484375 \r\nQ 21.1875 48.484375 17.84375 46.4375 \r\nQ 14.5 44.390625 14.5 40.28125 \r\nQ 14.5 37.15625 16.890625 35.375 \r\nQ 19.28125 33.59375 26.515625 31.984375 \r\nL 29.59375 31.296875 \r\nQ 39.15625 29.25 43.1875 25.515625 \r\nQ 47.21875 21.78125 47.21875 15.09375 \r\nQ 47.21875 7.46875 41.1875 3.015625 \r\nQ 35.15625 -1.421875 24.609375 -1.421875 \r\nQ 20.21875 -1.421875 15.453125 -0.5625 \r\nQ 10.6875 0.296875 5.421875 2 \r\nL 5.421875 11.28125 \r\nQ 10.40625 8.6875 15.234375 7.390625 \r\nQ 20.0625 6.109375 24.8125 6.109375 \r\nQ 31.15625 6.109375 34.5625 8.28125 \r\nQ 37.984375 10.453125 37.984375 14.40625 \r\nQ 37.984375 18.0625 35.515625 20.015625 \r\nQ 33.0625 21.96875 24.703125 23.78125 \r\nL 21.578125 24.515625 \r\nQ 13.234375 26.265625 9.515625 29.90625 \r\nQ 5.8125 33.546875 5.8125 39.890625 \r\nQ 5.8125 47.609375 11.28125 51.796875 \r\nQ 16.75 56 26.8125 56 \r\nQ 31.78125 56 36.171875 55.265625 \r\nQ 40.578125 54.546875 44.28125 53.078125 \r\nz\r\n\" id=\"DejaVuSans-115\"/>\r\n      <path d=\"M 9.421875 54.6875 \r\nL 18.40625 54.6875 \r\nL 18.40625 0 \r\nL 9.421875 0 \r\nz\r\nM 9.421875 75.984375 \r\nL 18.40625 75.984375 \r\nL 18.40625 64.59375 \r\nL 9.421875 64.59375 \r\nz\r\n\" id=\"DejaVuSans-105\"/>\r\n      <path d=\"M 18.3125 70.21875 \r\nL 18.3125 54.6875 \r\nL 36.8125 54.6875 \r\nL 36.8125 47.703125 \r\nL 18.3125 47.703125 \r\nL 18.3125 18.015625 \r\nQ 18.3125 11.328125 20.140625 9.421875 \r\nQ 21.96875 7.515625 27.59375 7.515625 \r\nL 36.8125 7.515625 \r\nL 36.8125 0 \r\nL 27.59375 0 \r\nQ 17.1875 0 13.234375 3.875 \r\nQ 9.28125 7.765625 9.28125 18.015625 \r\nL 9.28125 47.703125 \r\nL 2.6875 47.703125 \r\nL 2.6875 54.6875 \r\nL 9.28125 54.6875 \r\nL 9.28125 70.21875 \r\nz\r\n\" id=\"DejaVuSans-116\"/>\r\n      <path d=\"M 32.171875 -5.078125 \r\nQ 28.375 -14.84375 24.75 -17.8125 \r\nQ 21.140625 -20.796875 15.09375 -20.796875 \r\nL 7.90625 -20.796875 \r\nL 7.90625 -13.28125 \r\nL 13.1875 -13.28125 \r\nQ 16.890625 -13.28125 18.9375 -11.515625 \r\nQ 21 -9.765625 23.484375 -3.21875 \r\nL 25.09375 0.875 \r\nL 2.984375 54.6875 \r\nL 12.5 54.6875 \r\nL 29.59375 11.921875 \r\nL 46.6875 54.6875 \r\nL 56.203125 54.6875 \r\nz\r\n\" id=\"DejaVuSans-121\"/>\r\n     </defs>\r\n     <g transform=\"translate(14.798438 145.527031)rotate(-90)scale(0.1 -0.1)\">\r\n      <use xlink:href=\"#DejaVuSans-68\"/>\r\n      <use x=\"77.001953\" xlink:href=\"#DejaVuSans-101\"/>\r\n      <use x=\"138.525391\" xlink:href=\"#DejaVuSans-110\"/>\r\n      <use x=\"201.904297\" xlink:href=\"#DejaVuSans-115\"/>\r\n      <use x=\"254.003906\" xlink:href=\"#DejaVuSans-105\"/>\r\n      <use x=\"281.787109\" xlink:href=\"#DejaVuSans-116\"/>\r\n      <use x=\"320.996094\" xlink:href=\"#DejaVuSans-121\"/>\r\n     </g>\r\n    </g>\r\n    <g id=\"text_16\">\r\n     <!-- 1e−8 -->\r\n     <g transform=\"translate(50.14375 14.798437)scale(0.1 -0.1)\">\r\n      <use xlink:href=\"#DejaVuSans-49\"/>\r\n      <use x=\"63.623047\" xlink:href=\"#DejaVuSans-101\"/>\r\n      <use x=\"125.146484\" xlink:href=\"#DejaVuSans-8722\"/>\r\n      <use x=\"208.935547\" xlink:href=\"#DejaVuSans-56\"/>\r\n     </g>\r\n    </g>\r\n   </g>\r\n   <g id=\"line2d_14\">\r\n    <path clip-path=\"url(#pffd105085b)\" d=\"M 65.361932 234.070645 \r\nL 68.420863 233.586227 \r\nL 71.479794 232.929672 \r\nL 74.538725 232.05191 \r\nL 77.597656 230.894449 \r\nL 80.656587 229.38915 \r\nL 83.715518 227.458578 \r\nL 86.774449 225.017113 \r\nL 88.303914 223.576278 \r\nL 89.83338 221.972973 \r\nL 91.362845 220.195261 \r\nL 92.892311 218.231267 \r\nL 94.421776 216.069321 \r\nL 95.951242 213.698142 \r\nL 97.480708 211.107012 \r\nL 99.010173 208.285983 \r\nL 102.069104 201.919533 \r\nL 105.128035 194.542679 \r\nL 108.186966 186.125516 \r\nL 111.245897 176.671204 \r\nL 114.304828 166.222051 \r\nL 117.363759 154.864202 \r\nL 120.42269 142.730365 \r\nL 125.011087 123.479542 \r\nL 134.18788 84.301933 \r\nL 137.246811 72.130685 \r\nL 140.305742 60.927831 \r\nL 143.364673 50.993739 \r\nL 144.894138 46.588688 \r\nL 146.423604 42.599449 \r\nL 147.953069 39.053211 \r\nL 149.482535 35.973837 \r\nL 151.012 33.381597 \r\nL 152.541466 31.292944 \r\nL 154.070931 29.720351 \r\nL 155.600397 28.672199 \r\nL 157.129862 28.152723 \r\nL 158.659328 28.16202 \r\nL 160.188793 28.6961 \r\nL 161.718259 29.747004 \r\nL 163.247724 31.302965 \r\nL 164.77719 33.348611 \r\nL 166.306655 35.865218 \r\nL 167.836121 38.830991 \r\nL 169.365586 42.221374 \r\nL 170.895052 46.009389 \r\nL 172.424517 50.165983 \r\nL 175.483448 59.460514 \r\nL 178.54238 69.844887 \r\nL 181.601311 81.048911 \r\nL 186.189707 98.804488 \r\nL 195.3665 134.700855 \r\nL 199.954897 151.470091 \r\nL 203.013828 161.8645 \r\nL 206.072759 171.511537 \r\nL 209.13169 180.341579 \r\nL 212.190621 188.311352 \r\nL 215.249552 195.400879 \r\nL 218.308483 201.610106 \r\nL 221.367414 206.955409 \r\nL 224.426345 211.466197 \r\nL 225.95581 213.420617 \r\nL 227.485276 215.181754 \r\nL 229.014741 216.755607 \r\nL 230.544207 218.148472 \r\nL 232.073672 219.36688 \r\nL 233.603138 220.417549 \r\nL 235.132603 221.307343 \r\nL 236.662069 222.043234 \r\nL 238.191534 222.632283 \r\nL 239.721 223.081616 \r\nL 241.250465 223.398421 \r\nL 242.779931 223.589939 \r\nL 245.838862 223.626361 \r\nL 248.897793 223.250062 \r\nL 251.956724 222.521529 \r\nL 255.015655 221.5029 \r\nL 258.074586 220.258164 \r\nL 262.662983 218.111392 \r\nL 271.839776 213.642413 \r\nL 274.898707 212.340074 \r\nL 277.957638 211.229624 \r\nL 281.016569 210.35945 \r\nL 284.0755 209.768038 \r\nL 287.134431 209.482328 \r\nL 290.193362 209.516587 \r\nL 293.252293 209.871944 \r\nL 296.311224 210.536646 \r\nL 299.370155 211.487035 \r\nL 302.429086 212.689197 \r\nL 305.488017 214.101144 \r\nL 310.076413 216.507636 \r\nL 326.900534 225.82972 \r\nL 331.48893 227.945408 \r\nL 336.077327 229.745236 \r\nL 340.665724 231.217912 \r\nL 345.25412 232.379006 \r\nL 349.842517 233.262304 \r\nL 354.430913 233.911372 \r\nL 360.548775 234.492085 \r\nL 366.666637 234.839556 \r\nL 369.725568 234.952358 \r\nL 369.725568 234.952358 \r\n\" style=\"fill:none;stroke:#1f77b4;stroke-linecap:square;stroke-width:1.5;\"/>\r\n   </g>\r\n   <g id=\"patch_3\">\r\n    <path d=\"M 50.14375 235.238438 \r\nL 50.14375 17.798438 \r\n\" style=\"fill:none;stroke:#000000;stroke-linecap:square;stroke-linejoin:miter;stroke-width:0.8;\"/>\r\n   </g>\r\n   <g id=\"patch_4\">\r\n    <path d=\"M 384.94375 235.238438 \r\nL 384.94375 17.798438 \r\n\" style=\"fill:none;stroke:#000000;stroke-linecap:square;stroke-linejoin:miter;stroke-width:0.8;\"/>\r\n   </g>\r\n   <g id=\"patch_5\">\r\n    <path d=\"M 50.14375 235.238438 \r\nL 384.94375 235.238438 \r\n\" style=\"fill:none;stroke:#000000;stroke-linecap:square;stroke-linejoin:miter;stroke-width:0.8;\"/>\r\n   </g>\r\n   <g id=\"patch_6\">\r\n    <path d=\"M 50.14375 17.798438 \r\nL 384.94375 17.798438 \r\n\" style=\"fill:none;stroke:#000000;stroke-linecap:square;stroke-linejoin:miter;stroke-width:0.8;\"/>\r\n   </g>\r\n  </g>\r\n </g>\r\n <defs>\r\n  <clipPath id=\"pffd105085b\">\r\n   <rect height=\"217.44\" width=\"334.8\" x=\"50.14375\" y=\"17.798438\"/>\r\n  </clipPath>\r\n </defs>\r\n</svg>\r\n",
      "image/png": "[encoded data removed]"
     },
     "metadata": {
      "needs_background": "light"
     }
    }
   ],
   "source": [
    "# Kiếm tra phân phối của dữ liệu lương tháng\n",
    "import seaborn as sns\n",
    "data = pd.read_csv('train.csv').iloc[:,-2:]\n",
    "X = data.iloc[:,:-1]\n",
    "sns.distplot(X,hist=False,kde=True)"
   ]
  },
  {
   "source": [
    "Một cách khắc phục vấn đề này, đó là ước lượng một phân phối cụ thể và chính xác hơn cho các đặc điểm. Kernel Density Estimation (KDE) là một phương pháp tính phân phối hiệu quả trong trường hợp này, bằng cách tổng họp các phân phối chuẩn có cùng độ lệch chuẩn lại để ước lượng phân phối theo độ dày đặc:\n",
    "\n",
    "$$$\n",
    "P(x_i|c) = \\frac{1}{N}\\sum^N_{i=1}\\phi_\\sigma(x-x_i)\\\\~\\\\\n",
    "\n",
    "\\phi_\\sigma = N(0,\\sigma) \\;\\;\\; (\\sigma \\text{ tự chọn})\n",
    "$$$\n",
    "\n",
    "Phương pháp này tuy hiệu quả hơn Gaussian Naive Bayes, nhưng sẽ cần chọn kernal bandwidth - độ lệch chuẩn cho các phân phối $\\sigma$ hợp lí, cũng như chịu thêm thời gian tính toán khi phải tính phân phối chuẩn cho mỗi dữ liệu.\n"
   ],
   "cell_type": "markdown",
   "metadata": {}
  },
  {
   "cell_type": "code",
   "execution_count": 10,
   "metadata": {},
   "outputs": [
    {
     "output_type": "stream",
     "name": "stdout",
     "text": [
      "THẦY BÓI TÌNH DUYÊN 4.0.3\n",
      "****************************************\n",
      "   lương tháng      Ế\n",
      "0   30000000.0   True\n",
      "1    7000000.0   True\n",
      "2   15000000.0   True\n",
      "3    3000000.0   True\n",
      "4    5000000.0  False\n",
      "5   12000000.0  False\n",
      "6    5500000.0   True\n",
      "7   25000000.0  False\n",
      "8    4000000.0  False\n",
      "9  100000000.0  False\n",
      "****************************************\n",
      "Bạn còn cơ hội trước 30. Quẩy lên.\n"
     ]
    }
   ],
   "source": [
    "from sklearn.neighbors import KernelDensity\n",
    "print(\"THẦY BÓI TÌNH DUYÊN 4.0.3\")\n",
    "salary = int(input(\"Nhập lương tháng của bạn (VNĐ): \"))\n",
    "\n",
    "data = pd.read_csv('train.csv').iloc[:,-2:]\n",
    "print(\"*\"*40)\n",
    "print(data)\n",
    "print(\"*\"*40)\n",
    "true_data = data.loc[data['Ế']==True]\n",
    "false_data = data.loc[data['Ế']==False]\n",
    "Xtrue = true_data.iloc[:,:-1]\n",
    "Xfalse = false_data.iloc[:,:-1]\n",
    "\n",
    "kde = KernelDensity(bandwidth=1)\n",
    "\n",
    "kde.fit(Xtrue)\n",
    "outTrue = kde.score([[salary]])/len(true_data)\n",
    "\n",
    "kde.fit(Xfalse)\n",
    "outFalse = kde.score([[salary]])/len(false_data)\n",
    "\n",
    "res = \"ế chỏng chơ tới 30, đen thôi đỏ quên đi.\" if outTrue > outFalse else \"còn cơ hội trước 30. Quẩy lên.\"\n",
    "print(f\"Bạn {res:s}\")"
   ]
  },
  {
   "source": [
    "## 3. Kết bài\n",
    "Naive Bayes, cũng như các phương pháp phân loại bằng xác suất khác trở nên thuận tiện khi ta biết được những dữ liệu trước đó, qua các bước tính toán không mang tính phức tạp cao. Trong hầu hết các trường hợp, các phương pháp xử lí phù hợp sẽ được sử dụng cho từng loại dữ liệu khác nhau:\n",
    "\n",
    "* Phân định cho các xác suất 0: lựa chọn ngẫu nhiên, thay số $\\epsilon$, tịnh tiến Laplace.\n",
    "* Phân tách biến liên tục thành biến rời rạc: Uniform (khoảng), Quantile (Số lượng), các phương pháp clustering (K-Means, KNN),...\n",
    "* Áp dụng biến liên tục trong mô hình: Gaussian Naive Bayes (phân phối chuẩn, tính toán nhanh), Kernel Density Estimation (tất cả các loại phân phối, tính toán trung bình chậm)\n",
    "\n",
    "Tuy sự giả định về tính độc lập của các yếu tố sẽ làm giảm độ chính xác của mô hình, Naive Bayes vẫn giữ vai trò nhất định trong việc phân loại dữ liệu, và là một trong những thuật toán dự đoán phổ biến nhất của Machine Learning. \n",
    "\n",
    "Khi đọc xong bài hướng dẫn này, bạn đã có thể tự làm thầy bói 4.0 cho mình rồi đấy, hay thậm chí mở hàng bói cho người khác luôn. Kèo thơm thì mua tác giả cốc cà phê cám ơn là được rồi, còn kèo khắm thì tác giả xin miễn trừ trách nhiệm nhé hehehe.\n",
    "\n",
    "Tham khảo và đọc thêm:\n",
    "* Multinomial Naive Bayes, Bernoulli Naive Bayes\n",
    "* Xác suất (ch.3)\n",
    "* Bayes Inference (ch.4)\n",
    "* Gaussian & Bayes Gaussian Mixture Model (ch.4)\n",
    "\n",
    "## 4. Bài tập\n",
    "1. Sử dụng nguyên lí Bayes để giải bài toán xác suất nơi ta bắt đầu.\n",
    "2. Xây dưng mô hình tiên đoán với tất cả các cột trong file `train.csv` bằng phương pháp phân tách các biến liên tục.\n",
    "3. Cho 2 mô hình Naive Bayes A và B. Nếu A chỉ có thể tiên đoán dữ liệu rời rạc, còn B chỉ có thể tiên đoán dữ liệu liên tục, thì liệu chỉ dùng A và B, có thể tiên đoán tất cả các cột trong file `train.csv` khi không sử dụng phân tách hay viết lại mô hình không? Giải thích."
   ],
   "cell_type": "markdown",
   "metadata": {}
  }
 ]
}